{
 "cells": [
  {
   "cell_type": "markdown",
   "metadata": {},
   "source": [
    "# MCTS"
   ]
  },
  {
   "cell_type": "code",
   "execution_count": 851,
   "metadata": {
    "ExecuteTime": {
     "end_time": "2020-05-28T06:19:37.406786Z",
     "start_time": "2020-05-28T06:19:37.402790Z"
    }
   },
   "outputs": [],
   "source": [
    "import numpy as np\n",
    "from random import randint\n",
    "import copy\n",
    "from scipy.special import expit\n",
    "from statistics import mean, median,variance,stdev\n",
    "from tqdm.notebook import tqdm"
   ]
  },
  {
   "cell_type": "code",
   "execution_count": 2,
   "metadata": {
    "ExecuteTime": {
     "end_time": "2020-05-27T16:32:07.652391Z",
     "start_time": "2020-05-27T16:32:07.632402Z"
    }
   },
   "outputs": [],
   "source": [
    "class Node:\n",
    "    def __init__(self, state, parent=None, statistics={}):\n",
    "        self.state = state\n",
    "        self.parent = parent\n",
    "        self.children = {}\n",
    "        self.statistics = statistics\n",
    "        \n",
    "    def expand(self, action, next_state):\n",
    "        child = Node(state=next_state, parent=self)\n",
    "        self.children[action] = child\n",
    "        return child\n",
    "    \n",
    "\n",
    "class MCTS_with_UCT:\n",
    "    def __init__(self, state, gamerules, C=1):\n",
    "        self.game = gamerules\n",
    "        self.C = C\n",
    "        self.root = Node(state, statistics={\"visits\": 0, \"reward\": np.zeros(self.game.num_players())})\n",
    "        \n",
    "    def is_fully_expanded(self, node):\n",
    "        return len(self.game.get_actions(node.state))==len(list(node.children))\n",
    "    \n",
    "    def best_action(self, node):\n",
    "        children = list(node.children.values())\n",
    "        visits = np.array(([child.statistics[\"visits\"] for child in children]))\n",
    "        rewards = np.array(([child.statistics[\"reward\"] for child in children]))\n",
    "        total_rollouts = node.statistics[\"visits\"]\n",
    "        pid = self.game.get_current_player_id(node.state)\n",
    "        \n",
    "        ucb = (rewards[:, pid]/visits + self.C*np.sqrt(2*np.log(total_rollouts)/visits))\n",
    "        best_ucb_ind = np.random.choice(np.flatnonzero(ucb==ucb.max()))\n",
    "        return list(node.children.keys())[best_ucb_ind]\n",
    "    \n",
    "    def tree_policy(self, node):\n",
    "        while not self.game.is_terminal(node.state):\n",
    "            if not self.is_fully_expanded(node):\n",
    "                act_set = np.setdiff1d(\n",
    "                        self.game.get_actions(node.state), \n",
    "                        list(node.children.keys()))\n",
    "                action = act_set[randint(0, len(act_set)-1)]\n",
    "                newstate = self.game.perform_action(action, node.state)\n",
    "                childnode = node.expand(action, newstate)\n",
    "                childnode.statistics = {\"visits\": 0, \"reward\": np.zeros(self.game.num_players())}\n",
    "                return childnode\n",
    "            else:\n",
    "                node = node.children[self.best_action(node)]\n",
    "        return node\n",
    "                \n",
    "    def rollout(self, node):\n",
    "        roll_state = node.state.copy()\n",
    "        while not self.game.is_terminal(roll_state):\n",
    "            act_set = self.game.get_actions(roll_state)\n",
    "            action = act_set[randint(0, len(act_set)-1)]\n",
    "            roll_state = sekf.game.perform_action(action, roll_state)\n",
    "        return self.game.reward(roll_state)\n",
    "        \n",
    "    def backup(self, node, reward):\n",
    "        while not node is None:\n",
    "            node.statistics[\"visits\"] += 1\n",
    "            node.statistics[\"reward\"] += reward\n",
    "            node = node.parent\n",
    "                \n",
    "    def run_iter(self, iterations):\n",
    "        for i in range(iterations):\n",
    "            selected_node = self.tree_policy(self.root)\n",
    "            reward = self.rollout(selected_node)\n",
    "            self.backup(selected_node, reward)\n",
    "        return self.best_action(self.root)"
   ]
  },
  {
   "cell_type": "markdown",
   "metadata": {},
   "source": [
    "# Maze"
   ]
  },
  {
   "cell_type": "code",
   "execution_count": 3,
   "metadata": {
    "ExecuteTime": {
     "end_time": "2020-05-27T16:32:09.026462Z",
     "start_time": "2020-05-27T16:32:08.732643Z"
    }
   },
   "outputs": [],
   "source": [
    "import numpy as np\n",
    "import matplotlib.pyplot as plt\n",
    "from collections import defaultdict\n",
    "import random\n",
    "\n",
    "import sys\n",
    "sys.path.append(\"../../modules_HKlab/\")\n",
    "from state_machine import *"
   ]
  },
  {
   "cell_type": "code",
   "execution_count": 767,
   "metadata": {
    "ExecuteTime": {
     "end_time": "2020-05-28T05:52:28.505903Z",
     "start_time": "2020-05-28T05:52:28.471925Z"
    }
   },
   "outputs": [],
   "source": [
    "class Maze():\n",
    "    def __init__(self, curr_x, curr_y, wall_ends, goal_x=2, goal_y=0, max_x=4, max_y=4):\n",
    "        self.curr_x = curr_x + 0.5\n",
    "        self.curr_y = curr_y + 0.5\n",
    "        self.init_x = self.curr_x\n",
    "        self.init_y = self.curr_y\n",
    "        self.goal_x = goal_x + 0.5\n",
    "        self.goal_y = goal_y + 0.5\n",
    "        self.max_x = max_x\n",
    "        self.max_y = max_y\n",
    "        self.wall_ends = wall_ends\n",
    "        \n",
    "    def set_position(self, curr_x, curr_y):\n",
    "        self.curr_x = curr_x + 0.5\n",
    "        self.curr_y = curr_y + 0.5\n",
    "        \n",
    "    def get_position(self):\n",
    "        return self.curr_x, self.curr_y\n",
    "    \n",
    "    def get_goal(self):\n",
    "        return self.goal_x, self.goal_y\n",
    "    \n",
    "    def get_actions(self):\n",
    "        actions = {\n",
    "            \"a11\": [\"h\",1, True], \"a12\": [\"h\",-1, True], \n",
    "            \"a13\": [\"v\",1, True], \"a14\": [\"v\", -1, True], \n",
    "            \"a21\": [\"h\",2], \"a22\": [\"h\",-2], \"a23\": [\"v\",2], \"a24\": [\"v\", -2]}\n",
    "        return actions\n",
    "    \n",
    "    def is_terminal(self):\n",
    "        if self.curr_x==self.goal_x and self.curr_y==self.goal_y: return True\n",
    "        else: return False\n",
    "        \n",
    "    def move(self, direction, add, IsJump=False):\n",
    "        plus=1 if add>0 else -1\n",
    "        if IsJump==False:\n",
    "            for i in range(abs(add)):\n",
    "                if self.detect_collision(direction, plus)==0:\n",
    "                    if direction==\"h\": self.curr_x += plus\n",
    "                    elif direction==\"v\": self.curr_y += plus\n",
    "                else: continue\n",
    "        else:\n",
    "            for i in range(abs(add)):\n",
    "                if self.detect_collision(direction, plus)!=2:\n",
    "                    if direction==\"h\": self.curr_x += plus\n",
    "                    elif direction==\"v\": self.curr_y += plus\n",
    "                else: continue  \n",
    "        \n",
    "    def detect_parallel(self, wall_end):\n",
    "        if wall_end[0][0]==wall_end[1][0]: return \"h\"\n",
    "        elif wall_end[0][1]==wall_end[1][1]: return \"v\"\n",
    "        else: raise Exception\n",
    "        \n",
    "    def detect_collision(self, direction, add):\n",
    "        if direction==\"h\": next_x = self.curr_x + add ; next_y = self.curr_y\n",
    "        elif direction==\"v\": next_y = self.curr_y + add; next_x = self.curr_x\n",
    "        for wall_end in self.wall_ends:\n",
    "            wall_direction = self.detect_parallel(wall_end)\n",
    "            if direction!=wall_direction:              \n",
    "                if direction==\"h\": \n",
    "                    if ((wall_end[0][0]>wall_end[1][0]) and \n",
    "                    (wall_end[0][0]>self.curr_y) and (wall_end[1][0]<self.curr_y) and\n",
    "                    ((self.curr_x-wall_end[0][1])*(next_x-wall_end[0][1])<0)):\n",
    "                        return 1\n",
    "                    elif ((wall_end[0][0]<wall_end[1][0]) and \n",
    "                    (wall_end[0][0]<self.curr_y) and (wall_end[1][0]>self.curr_y) and\n",
    "                    ((self.curr_x-wall_end[0][1])*(next_x-wall_end[0][1])<0)):\n",
    "                        return 1\n",
    "                elif direction==\"v\": \n",
    "                    if ((wall_end[0][1]>wall_end[1][1]) and \n",
    "                    (wall_end[0][1]>self.curr_x) and (wall_end[1][1]<self.curr_x) and\n",
    "                    ((self.curr_y-wall_end[0][0])*(next_y-wall_end[0][0])<0)):\n",
    "                        return 1\n",
    "                    elif ((wall_end[0][1]<wall_end[1][1]) and \n",
    "                    (wall_end[0][1]<self.curr_x) and (wall_end[1][1]>self.curr_x) and\n",
    "                    ((self.curr_y-wall_end[0][0])*(next_y-wall_end[0][0])<0)):\n",
    "                        return 1\n",
    "        if (next_x<0 or next_x>self.max_x or next_y<0 or next_y>self.max_y): return 2\n",
    "            \n",
    "        return 0\n",
    "        \n",
    "    def plot(self, markersize=40):\n",
    "        fig = plt.figure(figsize=(5, 5))\n",
    "        ax = plt.gca()\n",
    "\n",
    "        for wall_end in self.wall_ends:\n",
    "            plt.plot(wall_end[0], wall_end[1], color='red', linewidth=2)\n",
    "\n",
    "        for i in range(self.max_x):\n",
    "            for j in range(self.max_y):\n",
    "                plt.text(i+0.5, j+0.5, f\"{i}{j}\", ha=\"center\")\n",
    "        plt.text(self.init_x, self.init_y-0.2, 'START', ha='center')\n",
    "        plt.text(self.goal_x, self.goal_y-0.2, 'GOAL', ha='center')\n",
    "\n",
    "        ax.set_xlim(0, self.max_x)\n",
    "        ax.set_ylim(0, self.max_y)\n",
    "        plt.tick_params(axis='both', which='both', bottom=False, top=False,\n",
    "                        labelbottom=False, right=False, left=False, labelleft=False)\n",
    "\n",
    "        line, = ax.plot([self.curr_x], [self.curr_y], marker=\"o\", color='g', markersize=markersize)\n",
    "        plt.show()"
   ]
  },
  {
   "cell_type": "code",
   "execution_count": 711,
   "metadata": {
    "ExecuteTime": {
     "end_time": "2020-05-28T05:39:59.838972Z",
     "start_time": "2020-05-28T05:39:59.827980Z"
    }
   },
   "outputs": [],
   "source": [
    "def SetupVariable(l, auto_run):\n",
    "    wall_ends = [[[1,1],[0,1]],[[1,2],[2,2]],[[2,2],[2,1]],[[3,2],[3,3]],[[3,3],[2,3]]]\n",
    "    l[\"auto_run\"] = auto_run\n",
    "    l[\"counter\"] = 0\n",
    "    l[\"IsReached\"] = False\n",
    "    l[\"flag\"] = 0\n",
    "    l[\"maze\"] = Maze(curr_x=0, curr_y=3, wall_ends=wall_ends)\n",
    "    l[\"curr_x\"], l[\"curr_y\"] = None, None\n",
    "    l[\"next_x\"], l[\"next_y\"] = None, None\n",
    "    l[\"IsJump\"], l[\"direction\"] = None, None\n",
    "        \n",
    "def AskMQ(l):\n",
    "    while True:\n",
    "        ans = input(\"move or quit?\\n(y|q)  > \")\n",
    "        if ans==\"y\" or ans==\"Y\": l[\"flag\"]=\"y\"; break\n",
    "        elif ans==\"q\" or ans==\"Q\": l[\"flag\"]=\"q\"; break\n",
    "        else: print(\"Invalid input. ReInput.\")\n",
    "            \n",
    "def ResetFlag(l):\n",
    "    l[\"flag\"] = None"
   ]
  },
  {
   "cell_type": "code",
   "execution_count": 690,
   "metadata": {
    "ExecuteTime": {
     "end_time": "2020-05-28T05:34:48.530917Z",
     "start_time": "2020-05-28T05:34:48.513925Z"
    }
   },
   "outputs": [],
   "source": [
    "def AskAction(l):\n",
    "    while True:\n",
    "        ans = input(\"jump one step(1)' or 'straight two step(2)'?\\nchoise action (1|2)  > \")\n",
    "        if ans==\"1\": l[\"flag\"]=\"1\"; break\n",
    "        elif ans==\"2\": l[\"flag\"]=\"2\"; break\n",
    "        else: print(\"Invalid input. ReInput.\")\n",
    "            \n",
    "def RandomAction(l):\n",
    "    random_value = random.random()\n",
    "    if random_value>=0.5: l[\"flag\"]=\"1\"\n",
    "    else: l[\"flag\"]=\"2\"\n",
    "            \n",
    "def ShowCurrentState(l):\n",
    "    curr_state = l[\"maze\"].get_position()\n",
    "    goal = l[\"maze\"].get_goal()\n",
    "    print(f\"Current state is {curr_state}.\")\n",
    "    print(f\"Goal is {goal}.\")\n",
    "    l[\"maze\"].plot(markersize=40)\n",
    "\n",
    "def DecideDirection(auto_run):\n",
    "    if auto_run==False:\n",
    "        while True:\n",
    "            ans = input(\"where direction?\\n(w|a|s|d)  > \")\n",
    "            if ans not in [\"w\", \"a\", \"s\", \"d\"]: print(\"Invalid input. ReInput.\")\n",
    "            else: return ans\n",
    "    else:\n",
    "        random_value = random.random()\n",
    "        if random_value<0.25: return \"w\"\n",
    "        elif random_value<0.5: return \"a\"\n",
    "        elif random_value<0.75: return \"s\"\n",
    "        else: return \"d\"\n",
    "\n",
    "def Straight(l):\n",
    "    direction = DecideDirection(l[\"auto_run\"])\n",
    "    if direction==\"w\": l[\"maze\"].move(\"v\", 2)\n",
    "    if direction==\"a\": l[\"maze\"].move(\"h\", -2)\n",
    "    if direction==\"s\": l[\"maze\"].move(\"v\", -2)\n",
    "    if direction==\"d\": l[\"maze\"].move(\"h\", 2)\n",
    "    l[\"counter\"] += 1\n",
    "\n",
    "def Jump(l):\n",
    "    direction = DecideDirection(l[\"auto_run\"])\n",
    "    if direction==\"w\": l[\"maze\"].move(\"v\", 1, IsJump=True)\n",
    "    if direction==\"a\": l[\"maze\"].move(\"h\", -1, IsJump=True)\n",
    "    if direction==\"s\": l[\"maze\"].move(\"v\", -1, IsJump=True)\n",
    "    if direction==\"d\": l[\"maze\"].move(\"h\", 1, IsJump=True)\n",
    "    l[\"counter\"] += 1\n",
    "    \n",
    "def DetectReaching(l):\n",
    "    curr_state = l[\"maze\"].get_position()\n",
    "    goal = l[\"maze\"].get_goal()\n",
    "    if curr_state[0]==goal[0] and curr_state[1]==goal[1]: l[\"IsReached\"]=True\n",
    "    if l[\"counter\"]==10: l[\"IsReached\"]=True\n",
    "    if l[\"auto_run\"]==False: print(f\"Current counter: {l['counter']}\")"
   ]
  },
  {
   "cell_type": "code",
   "execution_count": 691,
   "metadata": {
    "ExecuteTime": {
     "end_time": "2020-05-28T05:34:49.240225Z",
     "start_time": "2020-05-28T05:34:49.226232Z"
    }
   },
   "outputs": [],
   "source": [
    "def MoveSM(l):\n",
    "    sm = TStateMachine()\n",
    "    sm.StartState = \"ask_action_phase\"\n",
    "    sm[\"ask_action_phase\"] = TFSMState()\n",
    "    sm[\"ask_action_phase\"].EntryAction = lambda: AskAction(l) if l[\"auto_run\"]==False else RandomAction(l)\n",
    "    sm[\"ask_action_phase\"].NewAction()\n",
    "    sm[\"ask_action_phase\"].Actions[-1].Condition = lambda: True if l[\"flag\"]==\"1\" else False\n",
    "    sm[\"ask_action_phase\"].Actions[-1].NextState = \"jump_1step_phase\"\n",
    "    sm[\"ask_action_phase\"].NewAction()\n",
    "    sm[\"ask_action_phase\"].Actions[-1].Condition = lambda: True if l[\"flag\"]==\"2\" else False \n",
    "    sm[\"ask_action_phase\"].Actions[-1].NextState = \"straight_2step_phase\"\n",
    "    \n",
    "    sm[\"jump_1step_phase\"] = TFSMState()\n",
    "    sm[\"jump_1step_phase\"].EntryAction = lambda: [Jump(l), ShowCurrentState(l)] if l[\"auto_run\"]==False else Jump(l)\n",
    "    sm[\"jump_1step_phase\"].ElseAction.Condition = lambda: True\n",
    "    sm[\"jump_1step_phase\"].ElseAction.NextState = \"detect_reaching_phase\"\n",
    "    \n",
    "    sm[\"straight_2step_phase\"] = TFSMState()\n",
    "    sm[\"straight_2step_phase\"].EntryAction = lambda: [Straight(l), ShowCurrentState(l)] if l[\"auto_run\"]==False else Straight(l)\n",
    "    sm[\"straight_2step_phase\"].ElseAction.Condition = lambda: True\n",
    "    sm[\"straight_2step_phase\"].ElseAction.NextState = \"detect_reaching_phase\"\n",
    "    \n",
    "    sm[\"detect_reaching_phase\"] = TFSMState()\n",
    "    sm[\"detect_reaching_phase\"].EntryAction = lambda: DetectReaching(l)\n",
    "    sm[\"detect_reaching_phase\"].ElseAction.Condition = lambda: True\n",
    "    sm[\"detect_reaching_phase\"].ElseAction.NextState = EXIT_STATE\n",
    "    \n",
    "    sm.Run()"
   ]
  },
  {
   "cell_type": "code",
   "execution_count": 692,
   "metadata": {
    "ExecuteTime": {
     "end_time": "2020-05-28T05:34:49.643605Z",
     "start_time": "2020-05-28T05:34:49.626616Z"
    }
   },
   "outputs": [],
   "source": [
    "def RunMaze(auto_run=False):\n",
    "    l = defaultdict(lambda: None)\n",
    "\n",
    "    sm = TStateMachine()\n",
    "    sm.StartState = \"start\"\n",
    "    sm[\"start\"] = TFSMState()\n",
    "    sm[\"start\"].EntryAction = lambda: [SetupVariable(l, auto_run), ShowCurrentState(l)] if auto_run==False else SetupVariable(l, auto_run)\n",
    "    sm[\"start\"].NewAction()\n",
    "    sm[\"start\"].Actions[-1].Condition = lambda: auto_run\n",
    "    sm[\"start\"].Actions[-1].NextState = \"move\"\n",
    "    sm[\"start\"].ElseAction.Condition = lambda: True\n",
    "    sm[\"start\"].ElseAction.NextState = \"ask_mq\"\n",
    "\n",
    "    sm[\"ask_mq\"] = TFSMState()\n",
    "    sm[\"ask_mq\"].EntryAction = lambda: AskMQ(l) if l[\"IsReached\"]==False else ResetFlag(l)\n",
    "    sm[\"ask_mq\"].NewAction()\n",
    "    sm[\"ask_mq\"].Actions[-1].Condition = lambda: True if l[\"flag\"]==\"y\" else False\n",
    "    sm[\"ask_mq\"].Actions[-1].NextState = \"move\"\n",
    "    sm[\"ask_mq\"].NewAction()\n",
    "    sm[\"ask_mq\"].Actions[-1].Condition = lambda: True if l[\"flag\"]==\"q\" else False\n",
    "    sm[\"ask_mq\"].Actions[-1].Action = lambda: print('Finishing state machine')\n",
    "    sm[\"ask_mq\"].Actions[-1].NextState = EXIT_STATE\n",
    "    sm[\"ask_mq\"].NewAction()\n",
    "    sm[\"ask_mq\"].Actions[-1].Condition = lambda: l[\"IsReached\"]\n",
    "    sm[\"ask_mq\"].Actions[-1].NextState = \"reached\"\n",
    "\n",
    "    sm[\"move\"] = TFSMState()\n",
    "    sm[\"move\"].NewAction()\n",
    "    sm[\"move\"].Actions[-1].Condition = lambda: False if l[\"IsReached\"] else True\n",
    "    sm[\"move\"].Actions[-1].Action = lambda: MoveSM(l)\n",
    "    sm[\"move\"].Actions[-1].NextState = \"ask_mq\" if auto_run==False else \"move\"\n",
    "    sm[\"move\"].ElseAction.Condition = lambda: True\n",
    "    sm[\"move\"].ElseAction.NextState = \"reached\"\n",
    "\n",
    "    sm[\"reached\"] = TFSMState()\n",
    "    sm[\"reached\"].EntryAction = lambda: print(\"Reached Goal.\")\n",
    "    sm[\"reached\"].ElseAction.Condition = lambda: True\n",
    "    sm[\"reached\"].ElseAction.NextState = EXIT_STATE\n",
    "\n",
    "    sm.Run()"
   ]
  },
  {
   "cell_type": "code",
   "execution_count": 693,
   "metadata": {
    "ExecuteTime": {
     "end_time": "2020-05-28T05:34:50.951897Z",
     "start_time": "2020-05-28T05:34:50.706042Z"
    }
   },
   "outputs": [
    {
     "data": {
      "image/png": "[encoded data removed]",
      "text/plain": [
       "<Figure size 360x360 with 1 Axes>"
      ]
     },
     "metadata": {},
     "output_type": "display_data"
    }
   ],
   "source": [
    "wall_ends = [[[1,1],[0,1]],[[1,2],[2,2]],[[2,2],[2,1]],[[3,2],[3,3]],[[3,3],[2,3]]]\n",
    "maze = Maze(curr_x=0, curr_y=3, wall_ends=wall_ends)\n",
    "maze.plot(markersize=40)\n",
    "# maze.move(\"h\", 2)\n",
    "# maze.move(\"v\", -1, IsJump=True)\n",
    "# maze.plot(markersize=40)"
   ]
  },
  {
   "cell_type": "markdown",
   "metadata": {},
   "source": [
    "# Integration"
   ]
  },
  {
   "cell_type": "code",
   "execution_count": 694,
   "metadata": {
    "ExecuteTime": {
     "end_time": "2020-05-28T05:34:53.716314Z",
     "start_time": "2020-05-28T05:34:53.702324Z"
    },
    "scrolled": true
   },
   "outputs": [
    {
     "name": "stdout",
     "output_type": "stream",
     "text": [
      "root    state: (0.5, 1.5), statistics: {'visits': 0, 'reward': 0}\n",
      "selected action: a23, ['v', 2]\n",
      "child    state: (0.5, 3.5), child: {'visits': 0, 'reward': 0}\n",
      "reward: -12.82842712474619\n",
      "root    state: (0.5, 1.5), statistics: {'visits': 1, 'reward': -12.82842712474619}\n"
     ]
    }
   ],
   "source": [
    "maze = Maze(curr_x=0, curr_y=1, wall_ends=wall_ends)\n",
    "actions = maze.get_actions()\n",
    "pos_init = maze.get_position()\n",
    "root = Node(state=pos_init, statistics={\"visits\": 0, \"reward\": 0})\n",
    "print(f\"root    state: {root.state}, statistics: {root.statistics}\")\n",
    "\n",
    "act_set = np.setdiff1d(list(actions.keys()), list(root.children.keys()))\n",
    "sel_key = act_set[randint(0, len(act_set)-1)]\n",
    "sel_action = maze.get_actions()[sel_key]\n",
    "print(f\"selected action: {sel_key}, {sel_action}\")\n",
    "\n",
    "maze.move(*sel_action)\n",
    "child = root.expand(sel_key, maze.get_position())\n",
    "child.statistics = {\"visits\": 0, \"reward\": 0}\n",
    "print(f\"child    state: {child.state}, child: {child.statistics}\")\n",
    "\n",
    "step = 0\n",
    "while maze.is_terminal()==False and step!=10:\n",
    "    step += 1\n",
    "    act_set = list(maze.get_actions().values())\n",
    "    action = act_set [ randint (0 , len ( act_set ) - 1)]\n",
    "    maze.move(*action)\n",
    "dis = np.linalg.norm(np.array(list(maze.get_position()))-np.array(list(maze.get_goal())), ord=2)\n",
    "reward = - dis - step\n",
    "print(f\"reward: {reward}\")\n",
    "\n",
    "while not child is None:\n",
    "    child.statistics[\"visits\"] += 1\n",
    "    child.statistics[\"reward\"] += reward\n",
    "    child = child.parent\n",
    "    \n",
    "print(f\"root    state: {root.state}, statistics: {root.statistics}\")"
   ]
  },
  {
   "cell_type": "code",
   "execution_count": 831,
   "metadata": {
    "ExecuteTime": {
     "end_time": "2020-05-28T06:07:29.578415Z",
     "start_time": "2020-05-28T06:07:29.545435Z"
    }
   },
   "outputs": [],
   "source": [
    "class Node:\n",
    "    def __init__(self, state, parent=None, statistics={}):\n",
    "        self.state = state\n",
    "        self.parent = parent\n",
    "        self.children = {}\n",
    "        self.statistics = statistics\n",
    "        \n",
    "    def expand(self, action, next_state):\n",
    "        child = Node(state=next_state, parent=self)\n",
    "        self.children[action] = child\n",
    "        return child\n",
    "    \n",
    "\n",
    "class MCTS_with_UCT:\n",
    "    def __init__(self, init_state, gamerules, max_step=10, min_step=None, C=1):\n",
    "        self.init_state = init_state\n",
    "        self.game = gamerules\n",
    "        self.max_step = max_step\n",
    "        self.min_step = min_step\n",
    "        self.C = C\n",
    "        self.root = Node(self.init_state, statistics={\"visits\": 0, \"reward\": 0})\n",
    "        self.counter = 0\n",
    "        self.best_reward = -1e-5\n",
    "        self.tmp_command = []\n",
    "        self.best_command = []\n",
    "        \n",
    "    def is_fully_expanded(self, node):\n",
    "        return len(self.game.get_actions())==len(list(node.children))\n",
    "    \n",
    "    def best_action(self, node):\n",
    "        children = list(node.children.values())\n",
    "        visits = np.array(([child.statistics[\"visits\"] for child in children]))\n",
    "        rewards = np.array(([child.statistics[\"reward\"] for child in children]))\n",
    "        total_rollouts = node.statistics[\"visits\"]\n",
    "        ucb = (rewards/visits + self.C*np.sqrt(2*np.log(total_rollouts)/visits))\n",
    "        best_ucb_ind = np.random.choice(np.flatnonzero(ucb==ucb.max()))\n",
    "        return list(node.children.keys())[best_ucb_ind]\n",
    "    \n",
    "    def tree_policy(self, node):\n",
    "        while self.game.is_terminal()==False and self.counter!=self.max_step:\n",
    "            self.counter += 1\n",
    "            if self.is_fully_expanded(node)==False:\n",
    "                act_set = np.setdiff1d(list(actions.keys()), list(node.children.keys()))\n",
    "                action_key = act_set[randint(0, len(act_set)-1)]\n",
    "                action = self.game.get_actions()[action_key] \n",
    "                self.tmp_command.append(action)\n",
    "                self.game.move(*action)\n",
    "                newstate = self.game.get_position()\n",
    "                childnode = node.expand(action_key, newstate)\n",
    "                childnode.statistics = {\"visits\": 0, \"reward\": 0}\n",
    "                return childnode\n",
    "            else:\n",
    "                action_key = self.best_action(node)\n",
    "                action = self.game.get_actions()[self.best_action(node)]\n",
    "                self.tmp_command.append(action)\n",
    "                node = node.children[action_key]\n",
    "                self.game.move(*action)\n",
    "        return node\n",
    "                \n",
    "    def rollout(self, node):\n",
    "        while self.game.is_terminal()==False and self.counter!=self.max_step:\n",
    "            self.counter += 1\n",
    "            act_set = list(maze.get_actions().values())\n",
    "            action = act_set[randint(0, len(act_set)-1)]\n",
    "            self.tmp_command.append(action)\n",
    "            maze.move(*action)\n",
    "        dis = np.linalg.norm(np.array(list(self.game.get_position()))-np.array(list(self.game.get_goal())), ord=2)\n",
    "        reward = 0.5*(1-(self.counter-self.min_step)/self.max_step) + 0.5*(1-dis/4.2)\n",
    "        return reward\n",
    "        \n",
    "    def backup(self, node, reward):\n",
    "        while not node is None:\n",
    "            node.statistics[\"visits\"] += 1\n",
    "            node.statistics[\"reward\"] += reward\n",
    "            node = node.parent\n",
    "                \n",
    "    def run_iter(self, iterations):\n",
    "        for i in range(iterations):\n",
    "            self.counter = 0\n",
    "            self.tmp_command = []\n",
    "            selected_node = self.tree_policy(self.root)\n",
    "            reward = self.rollout(selected_node)\n",
    "            if reward>self.best_reward: \n",
    "#                 print(selected_node.state, self.game.get_position(), reward)\n",
    "                self.best_reward = reward\n",
    "                self.best_command = copy.deepcopy(self.tmp_command)\n",
    "            self.backup(selected_node, reward)\n",
    "            self.game.set_position(self.init_state[0]-0.5, self.init_state[1]-0.5)\n",
    "\n",
    "    def get_command(self, iterations):\n",
    "        self.run_iter(iterations)\n",
    "        return self.best_command, self.best_reward"
   ]
  },
  {
   "cell_type": "code",
   "execution_count": 840,
   "metadata": {
    "ExecuteTime": {
     "end_time": "2020-05-28T06:08:01.756584Z",
     "start_time": "2020-05-28T06:08:01.706614Z"
    },
    "scrolled": true
   },
   "outputs": [],
   "source": [
    "maze = Maze(curr_x=0, curr_y=3, wall_ends=wall_ends)\n",
    "pos_init = maze.get_position()\n",
    "solver = MCTS_with_UCT(pos_init, maze, max_step=5, min_step=3, C=1)\n",
    "command, reward = solver.get_command(iterations=100)"
   ]
  },
  {
   "cell_type": "code",
   "execution_count": 850,
   "metadata": {
    "ExecuteTime": {
     "end_time": "2020-05-28T06:18:35.893463Z",
     "start_time": "2020-05-28T06:18:20.769834Z"
    }
   },
   "outputs": [
    {
     "data": {
      "application/vnd.jupyter.widget-view+json": {
       "model_id": "cade1c08c8b2411a8e2cdcc2d8198e93",
       "version_major": 2,
       "version_minor": 0
      },
      "text/plain": [
       "HBox(children=(IntProgress(value=0), HTML(value='')))"
      ]
     },
     "metadata": {},
     "output_type": "display_data"
    },
    {
     "name": "stdout",
     "output_type": "stream",
     "text": [
      "\n"
     ]
    },
    {
     "data": {
      "application/vnd.jupyter.widget-view+json": {
       "model_id": "53551c2c6a7f4238813b1f5048593c76",
       "version_major": 2,
       "version_minor": 0
      },
      "text/plain": [
       "HBox(children=(IntProgress(value=0), HTML(value='')))"
      ]
     },
     "metadata": {},
     "output_type": "display_data"
    },
    {
     "name": "stdout",
     "output_type": "stream",
     "text": [
      "\n"
     ]
    },
    {
     "data": {
      "application/vnd.jupyter.widget-view+json": {
       "model_id": "5ee00e4d77ff4408a297e18fa1479bb9",
       "version_major": 2,
       "version_minor": 0
      },
      "text/plain": [
       "HBox(children=(IntProgress(value=0), HTML(value='')))"
      ]
     },
     "metadata": {},
     "output_type": "display_data"
    },
    {
     "name": "stdout",
     "output_type": "stream",
     "text": [
      "\n"
     ]
    },
    {
     "data": {
      "application/vnd.jupyter.widget-view+json": {
       "model_id": "cbb005d8cdf7432a91a00d22c2e0e154",
       "version_major": 2,
       "version_minor": 0
      },
      "text/plain": [
       "HBox(children=(IntProgress(value=0), HTML(value='')))"
      ]
     },
     "metadata": {},
     "output_type": "display_data"
    },
    {
     "name": "stdout",
     "output_type": "stream",
     "text": [
      "\n"
     ]
    },
    {
     "data": {
      "application/vnd.jupyter.widget-view+json": {
       "model_id": "e886b20c6ff548c9a0c7d7a7ca2cb805",
       "version_major": 2,
       "version_minor": 0
      },
      "text/plain": [
       "HBox(children=(IntProgress(value=0), HTML(value='')))"
      ]
     },
     "metadata": {},
     "output_type": "display_data"
    },
    {
     "name": "stdout",
     "output_type": "stream",
     "text": [
      "\n",
      "iterations 50 mean score: 0.9014761904761909\n",
      "iterations 100 mean score: 0.9184285714285718\n",
      "iterations 500 mean score: 0.8928571428571428\n",
      "iterations 1000 mean score: 0.9228095238095239\n",
      "iterations 10000 mean score: 0.9222380952380951\n"
     ]
    }
   ],
   "source": [
    "try_iterations = [50, 100, 500, 1000, 10000]\n",
    "trial = 100\n",
    "mean_score = []\n",
    "for iterations in try_iterations:\n",
    "    score=0\n",
    "    for i in tqdm(range(trial)):\n",
    "        maze = Maze(curr_x=0, curr_y=3, wall_ends=wall_ends)\n",
    "        pos_init = maze.get_position()\n",
    "        solver = MCTS_with_UCT(pos_init, maze, max_step=5, min_step=3, C=1)\n",
    "        command, reward = solver.get_command(iterations=100)\n",
    "        score += reward\n",
    "    mean_score.append(score/trial)\n",
    "for i, iterations in enumerate(try_iterations):\n",
    "    print(f\"iterations {try_iterations[i]} mean score: {mean_score[i]}\")"
   ]
  },
  {
   "cell_type": "code",
   "execution_count": 847,
   "metadata": {
    "ExecuteTime": {
     "end_time": "2020-05-28T06:14:35.523618Z",
     "start_time": "2020-05-28T06:14:35.517622Z"
    }
   },
   "outputs": [
    {
     "data": {
      "text/plain": [
       "[0.9220476190476191,\n",
       " 0.9120476190476191,\n",
       " 0.9114285714285717,\n",
       " 0.9116190476190479]"
      ]
     },
     "execution_count": 847,
     "metadata": {},
     "output_type": "execute_result"
    }
   ],
   "source": [
    "mean_score"
   ]
  },
  {
   "cell_type": "code",
   "execution_count": 617,
   "metadata": {
    "ExecuteTime": {
     "end_time": "2020-05-28T05:22:43.824747Z",
     "start_time": "2020-05-28T05:22:43.814754Z"
    }
   },
   "outputs": [
    {
     "data": {
      "text/plain": [
       "0.8"
      ]
     },
     "execution_count": 617,
     "metadata": {},
     "output_type": "execute_result"
    }
   ],
   "source": [
    "p = [2.5, 0.5]\n",
    "g = [2.5, 0.5]\n",
    "step = 5\n",
    "max_step = 5\n",
    "dis = np.linalg.norm(np.array(p)-np.array(g), ord=2)\n",
    "reward = 0.5*(1-(step-3)/max_step) + 0.5*(1-dis/4.2)\n",
    "reward"
   ]
  },
  {
   "cell_type": "code",
   "execution_count": 841,
   "metadata": {
    "ExecuteTime": {
     "end_time": "2020-05-28T06:08:08.916118Z",
     "start_time": "2020-05-28T06:08:08.677266Z"
    }
   },
   "outputs": [
    {
     "data": {
      "image/png": "[encoded data removed]",
      "text/plain": [
       "<Figure size 360x360 with 1 Axes>"
      ]
     },
     "metadata": {},
     "output_type": "display_data"
    }
   ],
   "source": [
    "# maze.set_position(pos_init[0]-0.5, pos_init[1]-0.5)\n",
    "maze.plot()"
   ]
  }
 ],
 "metadata": {
  "kernelspec": {
   "display_name": "Python 3",
   "language": "python",
   "name": "python3"
  },
  "language_info": {
   "codemirror_mode": {
    "name": "ipython",
    "version": 3
   },
   "file_extension": ".py",
   "mimetype": "text/x-python",
   "name": "python",
   "nbconvert_exporter": "python",
   "pygments_lexer": "ipython3",
   "version": "3.6.8"
  },
  "toc": {
   "base_numbering": 1,
   "nav_menu": {},
   "number_sections": true,
   "sideBar": true,
   "skip_h1_title": false,
   "title_cell": "Table of Contents",
   "title_sidebar": "Contents",
   "toc_cell": false,
   "toc_position": {},
   "toc_section_display": true,
   "toc_window_display": false
  },
  "varInspector": {
   "cols": {
    "lenName": 16,
    "lenType": 16,
    "lenVar": 40
   },
   "kernels_config": {
    "python": {
     "delete_cmd_postfix": "",
     "delete_cmd_prefix": "del ",
     "library": "var_list.py",
     "varRefreshCmd": "print(var_dic_list())"
    },
    "r": {
     "delete_cmd_postfix": ") ",
     "delete_cmd_prefix": "rm(",
     "library": "var_list.r",
     "varRefreshCmd": "cat(var_dic_list()) "
    }
   },
   "types_to_exclude": [
    "module",
    "function",
    "builtin_function_or_method",
    "instance",
    "_Feature"
   ],
   "window_display": false
  }
 },
 "nbformat": 4,
 "nbformat_minor": 2
}
